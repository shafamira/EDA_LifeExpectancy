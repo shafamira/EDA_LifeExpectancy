{
  "nbformat": 4,
  "nbformat_minor": 0,
  "metadata": {
    "colab": {
      "provenance": []
    },
    "kernelspec": {
      "name": "python3",
      "display_name": "Python 3"
    },
    "language_info": {
      "name": "python"
    }
  },
  "cells": [
    {
      "cell_type": "markdown",
      "source": [
        "### **2502009173 - SHAFA AMIRA QONITATIN**\n",
        "**GSLC Session 9: Number 3 Equivalent**"
      ],
      "metadata": {
        "id": "ryaySl4Rtpct"
      }
    },
    {
      "cell_type": "markdown",
      "source": [
        "#### **Import Librarires**"
      ],
      "metadata": {
        "id": "Ue1e0yDZz2o_"
      }
    },
    {
      "cell_type": "code",
      "source": [
        "# Import libraries\n",
        "import pandas as pd\n",
        "from sklearn.model_selection import train_test_split\n",
        "from sklearn.ensemble import RandomForestRegressor\n",
        "from sklearn.metrics import mean_squared_error\n",
        "import matplotlib.pyplot as plt\n",
        "import seaborn as sns"
      ],
      "metadata": {
        "id": "vx0i0wCizGsn"
      },
      "execution_count": 1,
      "outputs": []
    },
    {
      "cell_type": "markdown",
      "source": [
        "#### **Load Dataset**"
      ],
      "metadata": {
        "id": "K7G2pzFDz7XW"
      }
    },
    {
      "cell_type": "code",
      "source": [
        "df = pd.read_csv(\"scaled.csv\")"
      ],
      "metadata": {
        "id": "TacitGNixFaV"
      },
      "execution_count": 2,
      "outputs": []
    },
    {
      "cell_type": "code",
      "source": [
        "df.head() # check if the dataset has been loaded and check the overall output"
      ],
      "metadata": {
        "colab": {
          "base_uri": "https://localhost:8080/",
          "height": 270
        },
        "id": "iBfW01ACxYOF",
        "outputId": "b854a5c8-653d-4a79-de91-4343c46d02e2"
      },
      "execution_count": 3,
      "outputs": [
        {
          "output_type": "execute_result",
          "data": {
            "text/plain": [
              "       Year  Life.expectancy  Adult.Mortality  infant.deaths  Alcohol  \\\n",
              "0  1.000000         0.544592         0.362881       0.034444      0.0   \n",
              "1  0.933333         0.447818         0.373961       0.035556      0.0   \n",
              "2  0.866667         0.447818         0.369806       0.036667      0.0   \n",
              "3  0.800000         0.440228         0.375346       0.038333      0.0   \n",
              "4  0.733333         0.434535         0.379501       0.039444      0.0   \n",
              "\n",
              "   percentage.expenditure  Hepatitis.B   Measles       BMI  under.five.deaths  \\\n",
              "0                0.003659     0.653061  0.005439  0.209733             0.0332   \n",
              "1                0.003774     0.622449  0.002319  0.203940             0.0344   \n",
              "2                0.003759     0.642857  0.002027  0.198146             0.0356   \n",
              "3                0.004014     0.673469  0.013135  0.192352             0.0372   \n",
              "4                0.000364     0.683673  0.014200  0.187717             0.0388   \n",
              "\n",
              "      Polio  Total.expenditure  Diphtheria  HIV.AIDS       GDP  Population  \\\n",
              "0  0.031250           0.452118    0.649485       0.0  0.004889    0.026074   \n",
              "1  0.572917           0.453279    0.618557       0.0  0.005127    0.000253   \n",
              "2  0.614583           0.450377    0.639175       0.0  0.005287    0.024525   \n",
              "3  0.666667           0.473012    0.670103       0.0  0.005608    0.002857   \n",
              "4  0.677083           0.435287    0.680412       0.0  0.000519    0.002302   \n",
              "\n",
              "   thinness..1.19.years  thinness.5.9.years  Income.composition.of.resources  \\\n",
              "0              0.619565            0.603509                         0.505274   \n",
              "1              0.630435            0.610526                         0.502110   \n",
              "2              0.637681            0.617544                         0.495781   \n",
              "3              0.644928            0.628070                         0.488397   \n",
              "4              0.655797            0.635088                         0.478903   \n",
              "\n",
              "   Schooling  \n",
              "0   0.487923  \n",
              "1   0.483092  \n",
              "2   0.478261  \n",
              "3   0.473430  \n",
              "4   0.458937  "
            ],
            "text/html": [
              "\n",
              "  <div id=\"df-2faf1958-993b-41e6-908d-5175643821fb\">\n",
              "    <div class=\"colab-df-container\">\n",
              "      <div>\n",
              "<style scoped>\n",
              "    .dataframe tbody tr th:only-of-type {\n",
              "        vertical-align: middle;\n",
              "    }\n",
              "\n",
              "    .dataframe tbody tr th {\n",
              "        vertical-align: top;\n",
              "    }\n",
              "\n",
              "    .dataframe thead th {\n",
              "        text-align: right;\n",
              "    }\n",
              "</style>\n",
              "<table border=\"1\" class=\"dataframe\">\n",
              "  <thead>\n",
              "    <tr style=\"text-align: right;\">\n",
              "      <th></th>\n",
              "      <th>Year</th>\n",
              "      <th>Life.expectancy</th>\n",
              "      <th>Adult.Mortality</th>\n",
              "      <th>infant.deaths</th>\n",
              "      <th>Alcohol</th>\n",
              "      <th>percentage.expenditure</th>\n",
              "      <th>Hepatitis.B</th>\n",
              "      <th>Measles</th>\n",
              "      <th>BMI</th>\n",
              "      <th>under.five.deaths</th>\n",
              "      <th>Polio</th>\n",
              "      <th>Total.expenditure</th>\n",
              "      <th>Diphtheria</th>\n",
              "      <th>HIV.AIDS</th>\n",
              "      <th>GDP</th>\n",
              "      <th>Population</th>\n",
              "      <th>thinness..1.19.years</th>\n",
              "      <th>thinness.5.9.years</th>\n",
              "      <th>Income.composition.of.resources</th>\n",
              "      <th>Schooling</th>\n",
              "    </tr>\n",
              "  </thead>\n",
              "  <tbody>\n",
              "    <tr>\n",
              "      <th>0</th>\n",
              "      <td>1.000000</td>\n",
              "      <td>0.544592</td>\n",
              "      <td>0.362881</td>\n",
              "      <td>0.034444</td>\n",
              "      <td>0.0</td>\n",
              "      <td>0.003659</td>\n",
              "      <td>0.653061</td>\n",
              "      <td>0.005439</td>\n",
              "      <td>0.209733</td>\n",
              "      <td>0.0332</td>\n",
              "      <td>0.031250</td>\n",
              "      <td>0.452118</td>\n",
              "      <td>0.649485</td>\n",
              "      <td>0.0</td>\n",
              "      <td>0.004889</td>\n",
              "      <td>0.026074</td>\n",
              "      <td>0.619565</td>\n",
              "      <td>0.603509</td>\n",
              "      <td>0.505274</td>\n",
              "      <td>0.487923</td>\n",
              "    </tr>\n",
              "    <tr>\n",
              "      <th>1</th>\n",
              "      <td>0.933333</td>\n",
              "      <td>0.447818</td>\n",
              "      <td>0.373961</td>\n",
              "      <td>0.035556</td>\n",
              "      <td>0.0</td>\n",
              "      <td>0.003774</td>\n",
              "      <td>0.622449</td>\n",
              "      <td>0.002319</td>\n",
              "      <td>0.203940</td>\n",
              "      <td>0.0344</td>\n",
              "      <td>0.572917</td>\n",
              "      <td>0.453279</td>\n",
              "      <td>0.618557</td>\n",
              "      <td>0.0</td>\n",
              "      <td>0.005127</td>\n",
              "      <td>0.000253</td>\n",
              "      <td>0.630435</td>\n",
              "      <td>0.610526</td>\n",
              "      <td>0.502110</td>\n",
              "      <td>0.483092</td>\n",
              "    </tr>\n",
              "    <tr>\n",
              "      <th>2</th>\n",
              "      <td>0.866667</td>\n",
              "      <td>0.447818</td>\n",
              "      <td>0.369806</td>\n",
              "      <td>0.036667</td>\n",
              "      <td>0.0</td>\n",
              "      <td>0.003759</td>\n",
              "      <td>0.642857</td>\n",
              "      <td>0.002027</td>\n",
              "      <td>0.198146</td>\n",
              "      <td>0.0356</td>\n",
              "      <td>0.614583</td>\n",
              "      <td>0.450377</td>\n",
              "      <td>0.639175</td>\n",
              "      <td>0.0</td>\n",
              "      <td>0.005287</td>\n",
              "      <td>0.024525</td>\n",
              "      <td>0.637681</td>\n",
              "      <td>0.617544</td>\n",
              "      <td>0.495781</td>\n",
              "      <td>0.478261</td>\n",
              "    </tr>\n",
              "    <tr>\n",
              "      <th>3</th>\n",
              "      <td>0.800000</td>\n",
              "      <td>0.440228</td>\n",
              "      <td>0.375346</td>\n",
              "      <td>0.038333</td>\n",
              "      <td>0.0</td>\n",
              "      <td>0.004014</td>\n",
              "      <td>0.673469</td>\n",
              "      <td>0.013135</td>\n",
              "      <td>0.192352</td>\n",
              "      <td>0.0372</td>\n",
              "      <td>0.666667</td>\n",
              "      <td>0.473012</td>\n",
              "      <td>0.670103</td>\n",
              "      <td>0.0</td>\n",
              "      <td>0.005608</td>\n",
              "      <td>0.002857</td>\n",
              "      <td>0.644928</td>\n",
              "      <td>0.628070</td>\n",
              "      <td>0.488397</td>\n",
              "      <td>0.473430</td>\n",
              "    </tr>\n",
              "    <tr>\n",
              "      <th>4</th>\n",
              "      <td>0.733333</td>\n",
              "      <td>0.434535</td>\n",
              "      <td>0.379501</td>\n",
              "      <td>0.039444</td>\n",
              "      <td>0.0</td>\n",
              "      <td>0.000364</td>\n",
              "      <td>0.683673</td>\n",
              "      <td>0.014200</td>\n",
              "      <td>0.187717</td>\n",
              "      <td>0.0388</td>\n",
              "      <td>0.677083</td>\n",
              "      <td>0.435287</td>\n",
              "      <td>0.680412</td>\n",
              "      <td>0.0</td>\n",
              "      <td>0.000519</td>\n",
              "      <td>0.002302</td>\n",
              "      <td>0.655797</td>\n",
              "      <td>0.635088</td>\n",
              "      <td>0.478903</td>\n",
              "      <td>0.458937</td>\n",
              "    </tr>\n",
              "  </tbody>\n",
              "</table>\n",
              "</div>\n",
              "      <button class=\"colab-df-convert\" onclick=\"convertToInteractive('df-2faf1958-993b-41e6-908d-5175643821fb')\"\n",
              "              title=\"Convert this dataframe to an interactive table.\"\n",
              "              style=\"display:none;\">\n",
              "        \n",
              "  <svg xmlns=\"http://www.w3.org/2000/svg\" height=\"24px\"viewBox=\"0 0 24 24\"\n",
              "       width=\"24px\">\n",
              "    <path d=\"M0 0h24v24H0V0z\" fill=\"none\"/>\n",
              "    <path d=\"M18.56 5.44l.94 2.06.94-2.06 2.06-.94-2.06-.94-.94-2.06-.94 2.06-2.06.94zm-11 1L8.5 8.5l.94-2.06 2.06-.94-2.06-.94L8.5 2.5l-.94 2.06-2.06.94zm10 10l.94 2.06.94-2.06 2.06-.94-2.06-.94-.94-2.06-.94 2.06-2.06.94z\"/><path d=\"M17.41 7.96l-1.37-1.37c-.4-.4-.92-.59-1.43-.59-.52 0-1.04.2-1.43.59L10.3 9.45l-7.72 7.72c-.78.78-.78 2.05 0 2.83L4 21.41c.39.39.9.59 1.41.59.51 0 1.02-.2 1.41-.59l7.78-7.78 2.81-2.81c.8-.78.8-2.07 0-2.86zM5.41 20L4 18.59l7.72-7.72 1.47 1.35L5.41 20z\"/>\n",
              "  </svg>\n",
              "      </button>\n",
              "      \n",
              "  <style>\n",
              "    .colab-df-container {\n",
              "      display:flex;\n",
              "      flex-wrap:wrap;\n",
              "      gap: 12px;\n",
              "    }\n",
              "\n",
              "    .colab-df-convert {\n",
              "      background-color: #E8F0FE;\n",
              "      border: none;\n",
              "      border-radius: 50%;\n",
              "      cursor: pointer;\n",
              "      display: none;\n",
              "      fill: #1967D2;\n",
              "      height: 32px;\n",
              "      padding: 0 0 0 0;\n",
              "      width: 32px;\n",
              "    }\n",
              "\n",
              "    .colab-df-convert:hover {\n",
              "      background-color: #E2EBFA;\n",
              "      box-shadow: 0px 1px 2px rgba(60, 64, 67, 0.3), 0px 1px 3px 1px rgba(60, 64, 67, 0.15);\n",
              "      fill: #174EA6;\n",
              "    }\n",
              "\n",
              "    [theme=dark] .colab-df-convert {\n",
              "      background-color: #3B4455;\n",
              "      fill: #D2E3FC;\n",
              "    }\n",
              "\n",
              "    [theme=dark] .colab-df-convert:hover {\n",
              "      background-color: #434B5C;\n",
              "      box-shadow: 0px 1px 3px 1px rgba(0, 0, 0, 0.15);\n",
              "      filter: drop-shadow(0px 1px 2px rgba(0, 0, 0, 0.3));\n",
              "      fill: #FFFFFF;\n",
              "    }\n",
              "  </style>\n",
              "\n",
              "      <script>\n",
              "        const buttonEl =\n",
              "          document.querySelector('#df-2faf1958-993b-41e6-908d-5175643821fb button.colab-df-convert');\n",
              "        buttonEl.style.display =\n",
              "          google.colab.kernel.accessAllowed ? 'block' : 'none';\n",
              "\n",
              "        async function convertToInteractive(key) {\n",
              "          const element = document.querySelector('#df-2faf1958-993b-41e6-908d-5175643821fb');\n",
              "          const dataTable =\n",
              "            await google.colab.kernel.invokeFunction('convertToInteractive',\n",
              "                                                     [key], {});\n",
              "          if (!dataTable) return;\n",
              "\n",
              "          const docLinkHtml = 'Like what you see? Visit the ' +\n",
              "            '<a target=\"_blank\" href=https://colab.research.google.com/notebooks/data_table.ipynb>data table notebook</a>'\n",
              "            + ' to learn more about interactive tables.';\n",
              "          element.innerHTML = '';\n",
              "          dataTable['output_type'] = 'display_data';\n",
              "          await google.colab.output.renderOutput(dataTable, element);\n",
              "          const docLink = document.createElement('div');\n",
              "          docLink.innerHTML = docLinkHtml;\n",
              "          element.appendChild(docLink);\n",
              "        }\n",
              "      </script>\n",
              "    </div>\n",
              "  </div>\n",
              "  "
            ]
          },
          "metadata": {},
          "execution_count": 3
        }
      ]
    },
    {
      "cell_type": "markdown",
      "source": [
        "#### **Step 1: Split Dataset**\n",
        "Split the dataset into 80% for train data and 20% for test data."
      ],
      "metadata": {
        "id": "BG-WC2MRx5Vu"
      }
    },
    {
      "cell_type": "code",
      "source": [
        "X = df.drop(\"Life.expectancy\", axis=1) # independent variables\n",
        "y = df[\"Life.expectancy\"] # dependent variable\n",
        "X_train, X_test, y_train, y_test = train_test_split(X, y, test_size=0.2, random_state=42)"
      ],
      "metadata": {
        "id": "D2G-ojE0x4_o"
      },
      "execution_count": 4,
      "outputs": []
    },
    {
      "cell_type": "markdown",
      "source": [
        "#### **Step 2: Create Model**\n",
        "Initializes a random forest regressor object in Python using scikit-learn library"
      ],
      "metadata": {
        "id": "FA8sROjouDzf"
      }
    },
    {
      "cell_type": "code",
      "source": [
        "rf = RandomForestRegressor(random_state=42)"
      ],
      "metadata": {
        "id": "0MtxjC8B0ZS0"
      },
      "execution_count": 5,
      "outputs": []
    },
    {
      "cell_type": "markdown",
      "source": [
        "The random_state parameter sets a random seed to ensure that the random values generated by the model are reproducible. If the same seed is used, the model will produce the same results"
      ],
      "metadata": {
        "id": "1h51IsTO4ooW"
      }
    },
    {
      "cell_type": "markdown",
      "source": [
        "#### **Step 3: Training Model**\n",
        "Fits or training a random forest model using the training data"
      ],
      "metadata": {
        "id": "93vVaxbKxFw5"
      }
    },
    {
      "cell_type": "code",
      "source": [
        "rf.fit(X_train, y_train)"
      ],
      "metadata": {
        "colab": {
          "base_uri": "https://localhost:8080/",
          "height": 74
        },
        "id": "5h_B2KxRxGG0",
        "outputId": "ed7af059-6fa9-443b-c2f9-d7d2fa1dbfbc"
      },
      "execution_count": 6,
      "outputs": [
        {
          "output_type": "execute_result",
          "data": {
            "text/plain": [
              "RandomForestRegressor(random_state=42)"
            ],
            "text/html": [
              "<style>#sk-container-id-1 {color: black;background-color: white;}#sk-container-id-1 pre{padding: 0;}#sk-container-id-1 div.sk-toggleable {background-color: white;}#sk-container-id-1 label.sk-toggleable__label {cursor: pointer;display: block;width: 100%;margin-bottom: 0;padding: 0.3em;box-sizing: border-box;text-align: center;}#sk-container-id-1 label.sk-toggleable__label-arrow:before {content: \"▸\";float: left;margin-right: 0.25em;color: #696969;}#sk-container-id-1 label.sk-toggleable__label-arrow:hover:before {color: black;}#sk-container-id-1 div.sk-estimator:hover label.sk-toggleable__label-arrow:before {color: black;}#sk-container-id-1 div.sk-toggleable__content {max-height: 0;max-width: 0;overflow: hidden;text-align: left;background-color: #f0f8ff;}#sk-container-id-1 div.sk-toggleable__content pre {margin: 0.2em;color: black;border-radius: 0.25em;background-color: #f0f8ff;}#sk-container-id-1 input.sk-toggleable__control:checked~div.sk-toggleable__content {max-height: 200px;max-width: 100%;overflow: auto;}#sk-container-id-1 input.sk-toggleable__control:checked~label.sk-toggleable__label-arrow:before {content: \"▾\";}#sk-container-id-1 div.sk-estimator input.sk-toggleable__control:checked~label.sk-toggleable__label {background-color: #d4ebff;}#sk-container-id-1 div.sk-label input.sk-toggleable__control:checked~label.sk-toggleable__label {background-color: #d4ebff;}#sk-container-id-1 input.sk-hidden--visually {border: 0;clip: rect(1px 1px 1px 1px);clip: rect(1px, 1px, 1px, 1px);height: 1px;margin: -1px;overflow: hidden;padding: 0;position: absolute;width: 1px;}#sk-container-id-1 div.sk-estimator {font-family: monospace;background-color: #f0f8ff;border: 1px dotted black;border-radius: 0.25em;box-sizing: border-box;margin-bottom: 0.5em;}#sk-container-id-1 div.sk-estimator:hover {background-color: #d4ebff;}#sk-container-id-1 div.sk-parallel-item::after {content: \"\";width: 100%;border-bottom: 1px solid gray;flex-grow: 1;}#sk-container-id-1 div.sk-label:hover label.sk-toggleable__label {background-color: #d4ebff;}#sk-container-id-1 div.sk-serial::before {content: \"\";position: absolute;border-left: 1px solid gray;box-sizing: border-box;top: 0;bottom: 0;left: 50%;z-index: 0;}#sk-container-id-1 div.sk-serial {display: flex;flex-direction: column;align-items: center;background-color: white;padding-right: 0.2em;padding-left: 0.2em;position: relative;}#sk-container-id-1 div.sk-item {position: relative;z-index: 1;}#sk-container-id-1 div.sk-parallel {display: flex;align-items: stretch;justify-content: center;background-color: white;position: relative;}#sk-container-id-1 div.sk-item::before, #sk-container-id-1 div.sk-parallel-item::before {content: \"\";position: absolute;border-left: 1px solid gray;box-sizing: border-box;top: 0;bottom: 0;left: 50%;z-index: -1;}#sk-container-id-1 div.sk-parallel-item {display: flex;flex-direction: column;z-index: 1;position: relative;background-color: white;}#sk-container-id-1 div.sk-parallel-item:first-child::after {align-self: flex-end;width: 50%;}#sk-container-id-1 div.sk-parallel-item:last-child::after {align-self: flex-start;width: 50%;}#sk-container-id-1 div.sk-parallel-item:only-child::after {width: 0;}#sk-container-id-1 div.sk-dashed-wrapped {border: 1px dashed gray;margin: 0 0.4em 0.5em 0.4em;box-sizing: border-box;padding-bottom: 0.4em;background-color: white;}#sk-container-id-1 div.sk-label label {font-family: monospace;font-weight: bold;display: inline-block;line-height: 1.2em;}#sk-container-id-1 div.sk-label-container {text-align: center;}#sk-container-id-1 div.sk-container {/* jupyter's `normalize.less` sets `[hidden] { display: none; }` but bootstrap.min.css set `[hidden] { display: none !important; }` so we also need the `!important` here to be able to override the default hidden behavior on the sphinx rendered scikit-learn.org. See: https://github.com/scikit-learn/scikit-learn/issues/21755 */display: inline-block !important;position: relative;}#sk-container-id-1 div.sk-text-repr-fallback {display: none;}</style><div id=\"sk-container-id-1\" class=\"sk-top-container\"><div class=\"sk-text-repr-fallback\"><pre>RandomForestRegressor(random_state=42)</pre><b>In a Jupyter environment, please rerun this cell to show the HTML representation or trust the notebook. <br />On GitHub, the HTML representation is unable to render, please try loading this page with nbviewer.org.</b></div><div class=\"sk-container\" hidden><div class=\"sk-item\"><div class=\"sk-estimator sk-toggleable\"><input class=\"sk-toggleable__control sk-hidden--visually\" id=\"sk-estimator-id-1\" type=\"checkbox\" checked><label for=\"sk-estimator-id-1\" class=\"sk-toggleable__label sk-toggleable__label-arrow\">RandomForestRegressor</label><div class=\"sk-toggleable__content\"><pre>RandomForestRegressor(random_state=42)</pre></div></div></div></div></div>"
            ]
          },
          "metadata": {},
          "execution_count": 6
        }
      ]
    },
    {
      "cell_type": "markdown",
      "source": [
        "#### **Step 4: Get Feature Importances**\n",
        "Calculates the feature importances of a random forest model"
      ],
      "metadata": {
        "id": "kOA4Ttn5xGj8"
      }
    },
    {
      "cell_type": "code",
      "source": [
        "importances = pd.Series(rf.feature_importances_, index=X_train.columns).sort_values(ascending=False)\n",
        "print(importances)"
      ],
      "metadata": {
        "colab": {
          "base_uri": "https://localhost:8080/"
        },
        "id": "Hf2Z_nRmxG_F",
        "outputId": "f355199a-d9a9-4aec-dfef-9da4a600d4b6"
      },
      "execution_count": 7,
      "outputs": [
        {
          "output_type": "stream",
          "name": "stdout",
          "text": [
            "HIV.AIDS                           0.594121\n",
            "Adult.Mortality                    0.159651\n",
            "Income.composition.of.resources    0.143005\n",
            "Schooling                          0.018830\n",
            "BMI                                0.014034\n",
            "under.five.deaths                  0.010756\n",
            "thinness.5.9.years                 0.008680\n",
            "Alcohol                            0.007130\n",
            "Year                               0.007001\n",
            "thinness..1.19.years               0.005650\n",
            "Total.expenditure                  0.005315\n",
            "Measles                            0.003892\n",
            "GDP                                0.003641\n",
            "Polio                              0.003590\n",
            "infant.deaths                      0.003420\n",
            "percentage.expenditure             0.003385\n",
            "Diphtheria                         0.003132\n",
            "Population                         0.002891\n",
            "Hepatitis.B                        0.001875\n",
            "dtype: float64\n"
          ]
        }
      ]
    },
    {
      "cell_type": "markdown",
      "source": [
        "Returns an array containing the importance value of each feature in the random forest model. The importance value represents the relative contribution of each feature in making accurate predictions. If variables with high scores are not used in our model, the results will change significantly, so it is important to know which variables contribute the most, which in this case are HIV.AIDS, Adult.Mortality, and Income.composition.of.resources.  "
      ],
      "metadata": {
        "id": "trX3DLn75g-H"
      }
    },
    {
      "cell_type": "markdown",
      "source": [
        "#### **Step 5: Predict Model using dataset test**\n",
        "The trained model will make predictions using the test data"
      ],
      "metadata": {
        "id": "xvKS3DgQxHYs"
      }
    },
    {
      "cell_type": "code",
      "source": [
        "y_pred = rf.predict(X_test)"
      ],
      "metadata": {
        "id": "usaeisVkxHyt"
      },
      "execution_count": 8,
      "outputs": []
    },
    {
      "cell_type": "markdown",
      "source": [
        "#### **Step 6: Results**\n",
        "Create a data frame consisting of predicted value and ground truth"
      ],
      "metadata": {
        "id": "7YvW4Rn_02An"
      }
    },
    {
      "cell_type": "code",
      "source": [
        "resultsRF = pd.DataFrame({\"Predicted Value\": y_pred, \"Ground Truth\": y_test})"
      ],
      "metadata": {
        "id": "XHjccADm02Yb"
      },
      "execution_count": 9,
      "outputs": []
    },
    {
      "cell_type": "code",
      "source": [
        "resultsRF"
      ],
      "metadata": {
        "colab": {
          "base_uri": "https://localhost:8080/",
          "height": 423
        },
        "id": "EVSU2Fax1h9b",
        "outputId": "cb4b64c0-19b8-44d6-a6fa-fad3c17ba4c8"
      },
      "execution_count": 10,
      "outputs": [
        {
          "output_type": "execute_result",
          "data": {
            "text/plain": [
              "      Predicted Value  Ground Truth\n",
              "2546         0.698880      0.709677\n",
              "650          0.754440      0.751423\n",
              "1740         0.728330      0.719165\n",
              "177          0.753966      0.768501\n",
              "1377         0.323529      0.296015\n",
              "...               ...           ...\n",
              "859          0.410949      0.444023\n",
              "1405         0.709848      0.705882\n",
              "962          0.543188      0.470588\n",
              "2658         0.654630      0.631879\n",
              "2272         0.714421      0.715370\n",
              "\n",
              "[588 rows x 2 columns]"
            ],
            "text/html": [
              "\n",
              "  <div id=\"df-40904c5a-8b20-4e10-a959-e4ddb3dc5bcd\">\n",
              "    <div class=\"colab-df-container\">\n",
              "      <div>\n",
              "<style scoped>\n",
              "    .dataframe tbody tr th:only-of-type {\n",
              "        vertical-align: middle;\n",
              "    }\n",
              "\n",
              "    .dataframe tbody tr th {\n",
              "        vertical-align: top;\n",
              "    }\n",
              "\n",
              "    .dataframe thead th {\n",
              "        text-align: right;\n",
              "    }\n",
              "</style>\n",
              "<table border=\"1\" class=\"dataframe\">\n",
              "  <thead>\n",
              "    <tr style=\"text-align: right;\">\n",
              "      <th></th>\n",
              "      <th>Predicted Value</th>\n",
              "      <th>Ground Truth</th>\n",
              "    </tr>\n",
              "  </thead>\n",
              "  <tbody>\n",
              "    <tr>\n",
              "      <th>2546</th>\n",
              "      <td>0.698880</td>\n",
              "      <td>0.709677</td>\n",
              "    </tr>\n",
              "    <tr>\n",
              "      <th>650</th>\n",
              "      <td>0.754440</td>\n",
              "      <td>0.751423</td>\n",
              "    </tr>\n",
              "    <tr>\n",
              "      <th>1740</th>\n",
              "      <td>0.728330</td>\n",
              "      <td>0.719165</td>\n",
              "    </tr>\n",
              "    <tr>\n",
              "      <th>177</th>\n",
              "      <td>0.753966</td>\n",
              "      <td>0.768501</td>\n",
              "    </tr>\n",
              "    <tr>\n",
              "      <th>1377</th>\n",
              "      <td>0.323529</td>\n",
              "      <td>0.296015</td>\n",
              "    </tr>\n",
              "    <tr>\n",
              "      <th>...</th>\n",
              "      <td>...</td>\n",
              "      <td>...</td>\n",
              "    </tr>\n",
              "    <tr>\n",
              "      <th>859</th>\n",
              "      <td>0.410949</td>\n",
              "      <td>0.444023</td>\n",
              "    </tr>\n",
              "    <tr>\n",
              "      <th>1405</th>\n",
              "      <td>0.709848</td>\n",
              "      <td>0.705882</td>\n",
              "    </tr>\n",
              "    <tr>\n",
              "      <th>962</th>\n",
              "      <td>0.543188</td>\n",
              "      <td>0.470588</td>\n",
              "    </tr>\n",
              "    <tr>\n",
              "      <th>2658</th>\n",
              "      <td>0.654630</td>\n",
              "      <td>0.631879</td>\n",
              "    </tr>\n",
              "    <tr>\n",
              "      <th>2272</th>\n",
              "      <td>0.714421</td>\n",
              "      <td>0.715370</td>\n",
              "    </tr>\n",
              "  </tbody>\n",
              "</table>\n",
              "<p>588 rows × 2 columns</p>\n",
              "</div>\n",
              "      <button class=\"colab-df-convert\" onclick=\"convertToInteractive('df-40904c5a-8b20-4e10-a959-e4ddb3dc5bcd')\"\n",
              "              title=\"Convert this dataframe to an interactive table.\"\n",
              "              style=\"display:none;\">\n",
              "        \n",
              "  <svg xmlns=\"http://www.w3.org/2000/svg\" height=\"24px\"viewBox=\"0 0 24 24\"\n",
              "       width=\"24px\">\n",
              "    <path d=\"M0 0h24v24H0V0z\" fill=\"none\"/>\n",
              "    <path d=\"M18.56 5.44l.94 2.06.94-2.06 2.06-.94-2.06-.94-.94-2.06-.94 2.06-2.06.94zm-11 1L8.5 8.5l.94-2.06 2.06-.94-2.06-.94L8.5 2.5l-.94 2.06-2.06.94zm10 10l.94 2.06.94-2.06 2.06-.94-2.06-.94-.94-2.06-.94 2.06-2.06.94z\"/><path d=\"M17.41 7.96l-1.37-1.37c-.4-.4-.92-.59-1.43-.59-.52 0-1.04.2-1.43.59L10.3 9.45l-7.72 7.72c-.78.78-.78 2.05 0 2.83L4 21.41c.39.39.9.59 1.41.59.51 0 1.02-.2 1.41-.59l7.78-7.78 2.81-2.81c.8-.78.8-2.07 0-2.86zM5.41 20L4 18.59l7.72-7.72 1.47 1.35L5.41 20z\"/>\n",
              "  </svg>\n",
              "      </button>\n",
              "      \n",
              "  <style>\n",
              "    .colab-df-container {\n",
              "      display:flex;\n",
              "      flex-wrap:wrap;\n",
              "      gap: 12px;\n",
              "    }\n",
              "\n",
              "    .colab-df-convert {\n",
              "      background-color: #E8F0FE;\n",
              "      border: none;\n",
              "      border-radius: 50%;\n",
              "      cursor: pointer;\n",
              "      display: none;\n",
              "      fill: #1967D2;\n",
              "      height: 32px;\n",
              "      padding: 0 0 0 0;\n",
              "      width: 32px;\n",
              "    }\n",
              "\n",
              "    .colab-df-convert:hover {\n",
              "      background-color: #E2EBFA;\n",
              "      box-shadow: 0px 1px 2px rgba(60, 64, 67, 0.3), 0px 1px 3px 1px rgba(60, 64, 67, 0.15);\n",
              "      fill: #174EA6;\n",
              "    }\n",
              "\n",
              "    [theme=dark] .colab-df-convert {\n",
              "      background-color: #3B4455;\n",
              "      fill: #D2E3FC;\n",
              "    }\n",
              "\n",
              "    [theme=dark] .colab-df-convert:hover {\n",
              "      background-color: #434B5C;\n",
              "      box-shadow: 0px 1px 3px 1px rgba(0, 0, 0, 0.15);\n",
              "      filter: drop-shadow(0px 1px 2px rgba(0, 0, 0, 0.3));\n",
              "      fill: #FFFFFF;\n",
              "    }\n",
              "  </style>\n",
              "\n",
              "      <script>\n",
              "        const buttonEl =\n",
              "          document.querySelector('#df-40904c5a-8b20-4e10-a959-e4ddb3dc5bcd button.colab-df-convert');\n",
              "        buttonEl.style.display =\n",
              "          google.colab.kernel.accessAllowed ? 'block' : 'none';\n",
              "\n",
              "        async function convertToInteractive(key) {\n",
              "          const element = document.querySelector('#df-40904c5a-8b20-4e10-a959-e4ddb3dc5bcd');\n",
              "          const dataTable =\n",
              "            await google.colab.kernel.invokeFunction('convertToInteractive',\n",
              "                                                     [key], {});\n",
              "          if (!dataTable) return;\n",
              "\n",
              "          const docLinkHtml = 'Like what you see? Visit the ' +\n",
              "            '<a target=\"_blank\" href=https://colab.research.google.com/notebooks/data_table.ipynb>data table notebook</a>'\n",
              "            + ' to learn more about interactive tables.';\n",
              "          element.innerHTML = '';\n",
              "          dataTable['output_type'] = 'display_data';\n",
              "          await google.colab.output.renderOutput(dataTable, element);\n",
              "          const docLink = document.createElement('div');\n",
              "          docLink.innerHTML = docLinkHtml;\n",
              "          element.appendChild(docLink);\n",
              "        }\n",
              "      </script>\n",
              "    </div>\n",
              "  </div>\n",
              "  "
            ]
          },
          "metadata": {},
          "execution_count": 10
        }
      ]
    },
    {
      "cell_type": "markdown",
      "source": [
        "#### **Step 7: Plot Predicted vs. Ground Truth Values**\n",
        "Then, we plot the result using scatterplot"
      ],
      "metadata": {
        "id": "B0r7jBNG0-RH"
      }
    },
    {
      "cell_type": "code",
      "source": [
        "# create scatter plot\n",
        "sns.scatterplot(x=\"Predicted Value\", y=\"Ground Truth\", data=resultsRF)\n",
        "\n",
        "# add model line\n",
        "sns.lineplot(x=resultsRF['Predicted Value'], y=resultsRF['Predicted Value'], color='red')\n",
        "\n",
        "# set axis labels\n",
        "plt.xlabel(\"Predicted Value\")\n",
        "plt.ylabel(\"Ground Truth\")\n",
        "\n",
        "# show plot\n",
        "plt.show()"
      ],
      "metadata": {
        "colab": {
          "base_uri": "https://localhost:8080/",
          "height": 449
        },
        "id": "n8ptsj2T0-4A",
        "outputId": "0bf12bc5-8c4c-4b7a-8b25-ec893eccb03a"
      },
      "execution_count": 11,
      "outputs": [
        {
          "output_type": "display_data",
          "data": {
            "text/plain": [
              "<Figure size 640x480 with 1 Axes>"
            ],
            "image/png": "[encoded data removed]"
          },
          "metadata": {}
        }
      ]
    },
    {
      "cell_type": "markdown",
      "source": [
        "From the plot, we can see the distribution of data on the predicted value and ground truth and the line from our model, which is random forest. It can be seen that the distribution of the points is close to the line so this can be an indication of the good performance of the random forest model in predicting the target value. A linear pattern like the output above can also be assumed that there is a significant correlation between the predicted value and the ground truth and the random forest model has a good performance.\n"
      ],
      "metadata": {
        "id": "9b6w7Cu97bZy"
      }
    },
    {
      "cell_type": "markdown",
      "source": [
        "#### **Step 8: Calculate Mean Squared Error (MSE)**"
      ],
      "metadata": {
        "id": "HYyauZjl1JGA"
      }
    },
    {
      "cell_type": "code",
      "source": [
        "MSE_RF = mean_squared_error(y_test, y_pred)\n",
        "print(\"Mean Squared Error: \", MSE_RF)"
      ],
      "metadata": {
        "colab": {
          "base_uri": "https://localhost:8080/"
        },
        "id": "6N10ZAyY1Jyi",
        "outputId": "d236414c-5b69-433a-a6de-4e4201f2dfe0"
      },
      "execution_count": 12,
      "outputs": [
        {
          "output_type": "stream",
          "name": "stdout",
          "text": [
            "Mean Squared Error:  0.000978457455815839\n"
          ]
        }
      ]
    },
    {
      "cell_type": "markdown",
      "source": [
        "The Mean Squared Error result of 0.000978457455815839 shows that the random forest model that has been made has a good ability to predict the value of Life expectancy. The lower the MSE value, the smaller the difference between the actual value and the predicted value, so it can be concluded that the model has a high level of accuracy in predicting the value of Life expectancy."
      ],
      "metadata": {
        "id": "tq2vWSrG7nmo"
      }
    }
  ]
}